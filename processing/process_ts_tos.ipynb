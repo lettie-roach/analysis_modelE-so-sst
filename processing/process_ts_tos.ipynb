{
 "cells": [
  {
   "cell_type": "code",
   "execution_count": 1,
   "id": "ea530cd7-4b65-42d9-b185-1a9f13133122",
   "metadata": {},
   "outputs": [
    {
     "data": {
      "text/plain": [
       "<module 'my_utils' from '/gpfsm/dhome/laroach1/analysis/analysis_modelE-so-sst/published/processing/../my_utils.py'>"
      ]
     },
     "execution_count": 1,
     "metadata": {},
     "output_type": "execute_result"
    }
   ],
   "source": [
    "import xarray as xr\n",
    "import matplotlib.pyplot as plt\n",
    "import numpy as np\n",
    "import os\n",
    "import pandas as pd\n",
    "import cftime\n",
    "import warnings\n",
    "xr.set_options(keep_attrs=True)\n",
    "warnings.filterwarnings('ignore')\n",
    "import sys\n",
    "sys.path.insert(1, '../')\n",
    "import my_utils as myf\n",
    "import importlib\n",
    "importlib.reload(myf)"
   ]
  },
  {
   "cell_type": "code",
   "execution_count": 2,
   "id": "8a8b6cc2-a12a-4e8f-a6f8-fdb11c7dab5f",
   "metadata": {},
   "outputs": [],
   "source": [
    "c6dir = myf.cmip_dir+'CMIP/NASA-GISS/GISS-E2-1-G/historical/'\n",
    "sspdir = myf.cmip_dir+'ScenarioMIP/NASA-GISS/GISS-E2-1-G/ssp245/'"
   ]
  },
  {
   "cell_type": "code",
   "execution_count": 3,
   "id": "b7c06c16-7a50-451c-9a6d-5c31e87ca84e",
   "metadata": {},
   "outputs": [],
   "source": [
    "griddir = myf.cmip_dir+'CMIP/NASA-GISS/GISS-E2-1-G/piControl/r1i1p1f1/fx/'\n",
    "garea = xr.open_dataset(griddir+'areacella/gn/v20180824/areacella_fx_GISS-E2-1-G_piControl_r1i1p1f1_gn.nc').areacella\n",
    "ocnfr = xr.open_dataset(griddir+'sftlf/gn/v20180824/sftlf_fx_GISS-E2-1-G_piControl_r1i1p1f1_gn.nc').sftlf\n",
    "ocnfr = ocnfr/100.\n",
    "ocnfr = 1. - ocnfr\n",
    "garea = garea*ocnfr"
   ]
  },
  {
   "cell_type": "code",
   "execution_count": 4,
   "id": "32b08075-0f7a-4f6d-9796-02f43fadc7cf",
   "metadata": {},
   "outputs": [],
   "source": [
    "def open_cmip(ens):\n",
    "    \n",
    "    ds = xr.open_mfdataset(c6dir+ens+'/Omon/tos/gn/*/tos_Omon_GISS-E2-1-G_historical_'+ens+'_*.nc')\n",
    "    \n",
    "    filestr = 'historical'\n",
    "    if os.path.isdir(sspdir+ens):\n",
    "        print('extend with SSP245')\n",
    "        ds2 = xr.open_mfdataset(sspdir+ens+'/Omon/tos/gn/*/tos_Omon_GISS-E2-1-G_ssp245_'+ens+'_*.nc')\n",
    "        ds = xr.concat([ds,ds2],dim='time').sel(time=slice('1979','2021'))\n",
    "        filestr = 'hist+ssp245'\n",
    "    ds['time'] = ds.indexes['time'].to_datetimeindex()\n",
    "    ds['names'] = ens\n",
    "    ds = ds.set_coords('names')\n",
    "    ds = ds.sel(time=slice('1979','2021'))\n",
    "\n",
    "    return ds, filestr"
   ]
  },
  {
   "cell_type": "code",
   "execution_count": 5,
   "id": "56770967-d815-4f20-8db9-38fec47bd834",
   "metadata": {},
   "outputs": [],
   "source": [
    "def get_sst_avg(ds, outfile):\n",
    "          \n",
    "    y1 = str(ds.time.values[0])[:4]\n",
    "    y2 = str(ds.time.values[-1])[:4]\n",
    "\n",
    "    ds1 = (ds*garea).sum(dim=('lat','lon'))/garea.sum(dim=('lat','lon'))\n",
    "    ds1['region'] = 'Global'\n",
    "    ds1 = ds1.set_coords('region') \n",
    "\n",
    "    mask = garea.copy()\n",
    "    mask = mask.where(mask.lat<-45)\n",
    "    ds2 = (ds*mask).sum(dim=('lat','lon'))/mask.sum(dim=('lat','lon'))\n",
    "    ds2['region'] = '45-90S'\n",
    "    ds2 = ds2.set_coords('region')\n",
    "\n",
    "    mask = garea.copy()\n",
    "    mask = mask.where(mask.lat<-60)\n",
    "    ds3 = (ds*mask).sum(dim=('lat','lon'))/mask.sum(dim=('lat','lon'))\n",
    "    ds3['region'] = '60-90S'\n",
    "    ds3 = ds3.set_coords('region')\n",
    "\n",
    "    mask = garea.copy()\n",
    "    mask = mask.where(mask.lat<-50).where(mask.lat>-60)\n",
    "    ds4 = (ds*mask).sum(dim=('lat','lon'))/mask.sum(dim=('lat','lon'))\n",
    "    ds4['region'] = '50-60S'\n",
    "    ds4 = ds4.set_coords('region')\n",
    "    \n",
    "    mask = garea.copy()\n",
    "    mask = mask.where(mask.lat<-45).where(mask.lat>-75)\n",
    "    ds5 = (ds*mask).sum(dim=('lat','lon'))/mask.sum(dim=('lat','lon'))\n",
    "    ds5['region'] = '45-75S'\n",
    "    ds5 = ds5.set_coords('region')\n",
    "    \n",
    "    mask = garea.copy()\n",
    "    mask = mask.where(mask.lat<-50)\n",
    "    ds6 = (ds*mask).sum(dim=('lat','lon'))/mask.sum(dim=('lat','lon'))\n",
    "    ds6['region'] = '50-90S'\n",
    "    ds6 = ds6.set_coords('region')\n",
    "    \n",
    "    mask = garea.copy()\n",
    "    mask = mask.where(mask.lat<-50).where(mask.lat>-65)\n",
    "    ds7 = (ds*mask).sum(dim=('lat','lon'))/mask.sum(dim=('lat','lon'))\n",
    "    ds7['region'] = '50-65S'\n",
    "    ds7 = ds7.set_coords('region')\n",
    "    \n",
    "\n",
    "    ds = xr.concat([ds1, ds2, ds3, ds4, ds5, ds6, ds7],dim='region')\n",
    "    if 'type' in ds:\n",
    "        ds = ds.drop('type')\n",
    "    if 'time_bnds' in ds:\n",
    "        ds = ds.drop('time_bnds')\n",
    "    if 'lat_bnds' in ds:\n",
    "        ds = ds.drop('lat_bnds')\n",
    "    if 'lat_bnds' in ds:\n",
    "        ds = ds.drop('lon_bnds')\n",
    "    ds.to_netcdf(myf.processed_dir+'/timeseries/tos/'+outfile+str(y1)+'-'+str(y2)+'.nc')\n",
    "    \n",
    "    return ds"
   ]
  },
  {
   "cell_type": "code",
   "execution_count": 6,
   "id": "c31004cf-7803-4007-82fa-13f3035c8816",
   "metadata": {},
   "outputs": [],
   "source": [
    "runmap = pd.read_csv('../e2.1runmap.csv',sep=',')\n",
    "myens = runmap['names'].values"
   ]
  },
  {
   "cell_type": "code",
   "execution_count": 7,
   "id": "e181a3b3-c9ac-43ac-b7a2-3581f898870d",
   "metadata": {},
   "outputs": [
    {
     "name": "stdout",
     "output_type": "stream",
     "text": [
      "extend with SSP245\n",
      "extend with SSP245\n",
      "extend with SSP245\n",
      "extend with SSP245\n",
      "extend with SSP245\n",
      "extend with SSP245\n",
      "extend with SSP245\n",
      "extend with SSP245\n",
      "extend with SSP245\n",
      "extend with SSP245\n",
      "extend with SSP245\n"
     ]
    }
   ],
   "source": [
    "for ens in myens:\n",
    "    ds, filestr = open_cmip(ens)\n",
    "    ds = get_sst_avg(ds,'tos_avg_Omon_GISS-E2-1-G_'+filestr+'_'+ens+'_gn_')"
   ]
  },
  {
   "cell_type": "code",
   "execution_count": 8,
   "id": "b7e323a5-a59f-4fff-bbf2-0e652275d80a",
   "metadata": {},
   "outputs": [],
   "source": [
    "ds = xr.open_dataset(myf.obs_dir+'NOAA-ERSSTv5/sst.mnmean.nc').rename({'sst':'tos'})\n",
    "\n",
    "ocnmask = ds.isel(time=0).tos\n",
    "ocnmask = ocnmask.where(ocnmask!=ocnmask,1.)\n",
    "\n",
    "garea, _, _ = myf.grid_area_regll(ds.lat,ds.lon)\n",
    "garea = xr.DataArray(-garea,dims=('lat','lon'),coords={'lat':ds.lat,'lon':ds.lon})\n",
    "garea = garea*ocnmask\n",
    "\n",
    "ds['names'] = 'OBS-ERSSTv5'\n",
    "ds = ds.set_coords('names')\n",
    "name = str(ds.names.values)\n",
    "garea.sum().values\n",
    "\n",
    "ds = get_sst_avg(ds,'tos_avg_Omon-ERSSTv5_')\n"
   ]
  },
  {
   "cell_type": "code",
   "execution_count": null,
   "id": "d4b27138-3a58-41f0-ae61-9538382b8102",
   "metadata": {},
   "outputs": [],
   "source": []
  }
 ],
 "metadata": {
  "kernelspec": {
   "display_name": "Python [conda env:root]",
   "language": "python",
   "name": "conda-root-py"
  },
  "language_info": {
   "codemirror_mode": {
    "name": "ipython",
    "version": 3
   },
   "file_extension": ".py",
   "mimetype": "text/x-python",
   "name": "python",
   "nbconvert_exporter": "python",
   "pygments_lexer": "ipython3",
   "version": "3.9.12"
  }
 },
 "nbformat": 4,
 "nbformat_minor": 5
}
