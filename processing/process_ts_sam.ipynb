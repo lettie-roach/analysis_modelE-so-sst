{
 "cells": [
  {
   "cell_type": "code",
   "execution_count": 1,
   "id": "ea530cd7-4b65-42d9-b185-1a9f13133122",
   "metadata": {},
   "outputs": [
    {
     "data": {
      "text/plain": [
       "<module 'my_utils' from '/gpfsm/dhome/laroach1/analysis/analysis_modelE-so-sst_pub/processing/../my_utils.py'>"
      ]
     },
     "execution_count": 1,
     "metadata": {},
     "output_type": "execute_result"
    }
   ],
   "source": [
    "import xarray as xr\n",
    "import matplotlib.pyplot as plt\n",
    "import numpy as np\n",
    "import os\n",
    "import pandas as pd\n",
    "import cftime\n",
    "import warnings\n",
    "xr.set_options(keep_attrs=True)\n",
    "warnings.filterwarnings('ignore')\n",
    "import sys\n",
    "sys.path.insert(1, '../')\n",
    "import my_utils as myf\n",
    "import importlib\n",
    "importlib.reload(myf)"
   ]
  },
  {
   "cell_type": "code",
   "execution_count": 2,
   "id": "8a8b6cc2-a12a-4e8f-a6f8-fdb11c7dab5f",
   "metadata": {},
   "outputs": [],
   "source": [
    "c6dir = myf.cmip_dir+'CMIP/NASA-GISS/GISS-E2-1-G/historical/'\n",
    "sspdir = myf.cmip_dir+'ScenarioMIP/NASA-GISS/GISS-E2-1-G/ssp245/'"
   ]
  },
  {
   "cell_type": "code",
   "execution_count": 3,
   "id": "32b08075-0f7a-4f6d-9796-02f43fadc7cf",
   "metadata": {},
   "outputs": [],
   "source": [
    "def open_cmip(ens):\n",
    "    \n",
    "    ds = xr.open_mfdataset(c6dir+ens+'/Amon/psl/gn/*/psl_Amon_GISS-E2-1-G_historical_'+ens+'_*.nc')\n",
    "    \n",
    "    filestr = 'historical'\n",
    "    if os.path.isdir(sspdir+ens):\n",
    "        print('extend with SSP245')\n",
    "        ds2 = xr.open_mfdataset(sspdir+ens+'/Amon/psl/gn/*/psl_Amon_GISS-E2-1-G_ssp245_'+ens+'_*.nc')\n",
    "        ds = xr.concat([ds,ds2],dim='time').sel(time=slice('1990','2021'))\n",
    "        filestr = 'hist+ssp245'\n",
    "    ds['time'] = ds.indexes['time'].to_datetimeindex()\n",
    "    ds['names'] = ens\n",
    "    ds = ds.set_coords('names')\n",
    "    ds = ds.sel(time=slice('1990','2021'))\n",
    "    ds = ds[['psl']]\n",
    "    ds = ds.mean(dim='lon')\n",
    "\n",
    "    return ds, filestr"
   ]
  },
  {
   "cell_type": "code",
   "execution_count": 4,
   "id": "56770967-d815-4f20-8db9-38fec47bd834",
   "metadata": {},
   "outputs": [],
   "source": [
    "def compute_sam(ds, outfile):\n",
    "          \n",
    "    y1 = str(ds.time.values[0])[:4]\n",
    "    y2 = str(ds.time.values[-1])[:4]\n",
    "    \n",
    "    ds_clim = ds.groupby('time.month').mean('time')\n",
    "    ds_anom = ds.groupby('time.month') -  ds_clim\n",
    "    \n",
    "    a1 = ds_anom.interp(lat=-40).psl\n",
    "    a2 = ds_anom.interp(lat=-65).psl\n",
    "    index = a1/a1.std(dim='time') - a2/a2.std(dim='time')\n",
    "    ds['SAM'] = index\n",
    "    ds = ds[['SAM']]\n",
    "    ds.SAM.attrs['units'] = '-'\n",
    "    ds.SAM.attrs['long_name'] = 'Southern Annular Mode index'\n",
    "    ds.SAM.attrs['desc'] = 'Not detrended'\n",
    "    if 'month' in ds:\n",
    "        ds = ds.drop('month')\n",
    "    ds.to_netcdf(myf.processed_dir+'/timeseries/sam/'+outfile+str(y1)+'-'+str(y2)+'.nc')\n",
    "    \n",
    "    return ds"
   ]
  },
  {
   "cell_type": "code",
   "execution_count": 5,
   "id": "c31004cf-7803-4007-82fa-13f3035c8816",
   "metadata": {},
   "outputs": [],
   "source": [
    "runmap = pd.read_csv('../e2.1runmap.csv',sep=',')\n",
    "myens = runmap['names'].values"
   ]
  },
  {
   "cell_type": "code",
   "execution_count": 6,
   "id": "e181a3b3-c9ac-43ac-b7a2-3581f898870d",
   "metadata": {},
   "outputs": [
    {
     "name": "stdout",
     "output_type": "stream",
     "text": [
      "extend with SSP245\n",
      "extend with SSP245\n",
      "extend with SSP245\n",
      "extend with SSP245\n",
      "extend with SSP245\n",
      "extend with SSP245\n",
      "extend with SSP245\n",
      "extend with SSP245\n",
      "extend with SSP245\n",
      "extend with SSP245\n",
      "extend with SSP245\n"
     ]
    }
   ],
   "source": [
    "for ens in myens:\n",
    "    ds, filestr = open_cmip(ens)\n",
    "    ds = compute_sam(ds,'sam_Amon_GISS-E2-1-G_'+filestr+'_'+ens+'_gn_')"
   ]
  },
  {
   "cell_type": "code",
   "execution_count": 7,
   "id": "d4b27138-3a58-41f0-ae61-9538382b8102",
   "metadata": {},
   "outputs": [],
   "source": [
    "import glob\n",
    "merradir = '/discover/nobackup/projects/gmao/merra2/data/products/'\n",
    "myfiles = sorted(glob.glob(merradir+'MERRA2_all/*/*/*instM*3d_asm_Np*.nc4'))\n",
    "listds = []\n",
    "for f in myfiles:\n",
    "    ds = xr.open_dataset(f)[['SLP']].interp(lat=[-40,-65]).mean(dim='lon')\n",
    "    listds.append(ds)\n",
    "ds = xr.concat(listds,dim='time').sel(time=slice('1990','2021'))\n",
    "ds['SLP'] = ds.SLP/100.-1000. # convert units\n",
    "ds = ds.rename({'SLP':'psl'})\n",
    "ds.psl.attrs['units'] = 'mb-1000'\n",
    "ds['names'] = 'OBS-MERRA2'\n",
    "ds = ds.set_coords('names')\n",
    "ds = compute_sam(ds,'sam_Amon_OBS-MERRA2_')"
   ]
  },
  {
   "cell_type": "code",
   "execution_count": null,
   "id": "af698456-772c-4f2c-b8e8-1bf964b38f7d",
   "metadata": {},
   "outputs": [],
   "source": []
  }
 ],
 "metadata": {
  "kernelspec": {
   "display_name": "Python [conda env:root]",
   "language": "python",
   "name": "conda-root-py"
  },
  "language_info": {
   "codemirror_mode": {
    "name": "ipython",
    "version": 3
   },
   "file_extension": ".py",
   "mimetype": "text/x-python",
   "name": "python",
   "nbconvert_exporter": "python",
   "pygments_lexer": "ipython3",
   "version": "3.9.12"
  }
 },
 "nbformat": 4,
 "nbformat_minor": 5
}
