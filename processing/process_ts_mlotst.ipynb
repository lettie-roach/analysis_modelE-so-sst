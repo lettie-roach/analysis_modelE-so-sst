{
 "cells": [
  {
   "cell_type": "code",
   "execution_count": 2,
   "id": "ea530cd7-4b65-42d9-b185-1a9f13133122",
   "metadata": {},
   "outputs": [
    {
     "data": {
      "text/plain": [
       "<module 'my_utils' from '/gpfsm/dhome/laroach1/analysis/analysis_modelE-so-sst/published/processing/../my_utils.py'>"
      ]
     },
     "execution_count": 2,
     "metadata": {},
     "output_type": "execute_result"
    }
   ],
   "source": [
    "import xarray as xr\n",
    "import matplotlib.pyplot as plt\n",
    "import numpy as np\n",
    "import os\n",
    "import pandas as pd\n",
    "import cftime\n",
    "import warnings\n",
    "xr.set_options(keep_attrs=True)\n",
    "warnings.filterwarnings('ignore')\n",
    "import sys\n",
    "sys.path.insert(1, '../')\n",
    "import my_utils as myf\n",
    "import importlib\n",
    "importlib.reload(myf)"
   ]
  },
  {
   "cell_type": "code",
   "execution_count": 3,
   "id": "8a8b6cc2-a12a-4e8f-a6f8-fdb11c7dab5f",
   "metadata": {},
   "outputs": [],
   "source": [
    "c6dir = myf.cmip_dir+'CMIP/NASA-GISS/GISS-E2-1-G/historical/'\n",
    "sspdir = myf.cmip_dir+'ScenarioMIP/NASA-GISS/GISS-E2-1-G/ssp245/'"
   ]
  },
  {
   "cell_type": "code",
   "execution_count": 4,
   "id": "b7c06c16-7a50-451c-9a6d-5c31e87ca84e",
   "metadata": {},
   "outputs": [],
   "source": [
    "griddir = myf.cmip_dir+'CMIP/NASA-GISS/GISS-E2-1-G/piControl/r1i1p1f1/Ofx/'\n",
    "garea = xr.open_dataset(griddir+'areacello/gn/v20180824/areacello_Ofx_GISS-E2-1-G_piControl_r1i1p1f1_gn.nc').areacello\n",
    "ocnfr = xr.open_dataset(griddir+'sftof/gn/v20180824/sftof_Ofx_GISS-E2-1-G_piControl_r1i1p1f1_gn.nc').sftof\n",
    "ocnfr = ocnfr/100.\n",
    "garea = garea*ocnfr"
   ]
  },
  {
   "cell_type": "code",
   "execution_count": 5,
   "id": "32b08075-0f7a-4f6d-9796-02f43fadc7cf",
   "metadata": {},
   "outputs": [],
   "source": [
    "def open_cmip(ens):\n",
    "    ds = xr.open_mfdataset(c6dir+ens+'/Omon/mlotst/gn/*/mlotst_Omon_GISS-E2-1-G_historical_'+ens+'_*.nc')\n",
    "    \n",
    "    filestr = 'historical'\n",
    "    if os.path.isdir(sspdir+ens):\n",
    "        print('extend with SSP245')\n",
    "        ds2 = xr.open_mfdataset(sspdir+ens+'/Omon/mlotst/gn/*/mlotst_Omon_GISS-E2-1-G_ssp245_'+ens+'_*.nc')\n",
    "        ds = xr.concat([ds,ds2],dim='time').sel(time=slice('1979','2021'))\n",
    "        filestr = 'hist+ssp245'\n",
    "    ds['time'] = ds.indexes['time'].to_datetimeindex()\n",
    "    ds['names'] = ens\n",
    "    ds = ds.set_coords('names')\n",
    "    ds = ds.sel(time=slice('1979','2021'))\n",
    "\n",
    "    return ds, filestr"
   ]
  },
  {
   "cell_type": "code",
   "execution_count": 6,
   "id": "56770967-d815-4f20-8db9-38fec47bd834",
   "metadata": {},
   "outputs": [],
   "source": [
    "def get_mld_avg(ds, outfile):\n",
    "          \n",
    "    y1 = str(ds.time.values[0])[:4]\n",
    "    y2 = str(ds.time.values[-1])[:4]\n",
    "\n",
    "    ds1 = (ds*garea).sum(dim=('lat','lon'))/garea.sum(dim=('lat','lon'))\n",
    "    ds1['region'] = 'Global'\n",
    "    ds1 = ds1.set_coords('region') \n",
    "\n",
    "    mask = garea.copy()\n",
    "    mask = mask.where(mask.lat<-45)\n",
    "    ds2 = (ds*mask).sum(dim=('lat','lon'))/mask.sum(dim=('lat','lon'))\n",
    "    ds2['region'] = '45-90S'\n",
    "    ds2 = ds2.set_coords('region')\n",
    "\n",
    "    mask = garea.copy()\n",
    "    mask = mask.where(mask.lat<-60)\n",
    "    ds3 = (ds*mask).sum(dim=('lat','lon'))/mask.sum(dim=('lat','lon'))\n",
    "    ds3['region'] = '60-90S'\n",
    "    ds3 = ds3.set_coords('region')\n",
    "\n",
    "    mask = garea.copy()\n",
    "    mask = mask.where(mask.lat<-50).where(mask.lat>-60)\n",
    "    ds4 = (ds*mask).sum(dim=('lat','lon'))/mask.sum(dim=('lat','lon'))\n",
    "    ds4['region'] = '50-60S'\n",
    "    ds4 = ds4.set_coords('region')\n",
    "    \n",
    "    mask = garea.copy()\n",
    "    mask = mask.where(mask.lat<-45).where(mask.lat>-75)\n",
    "    ds5 = (ds*mask).sum(dim=('lat','lon'))/mask.sum(dim=('lat','lon'))\n",
    "    ds5['region'] = '45-75S'\n",
    "    ds5 = ds5.set_coords('region')\n",
    "    \n",
    "    mask = garea.copy()\n",
    "    mask = mask.where(mask.lat<-50)\n",
    "    ds6 = (ds*mask).sum(dim=('lat','lon'))/mask.sum(dim=('lat','lon'))\n",
    "    ds6['region'] = '50-90S'\n",
    "    ds6 = ds6.set_coords('region')\n",
    "    \n",
    "    mask = garea.copy()\n",
    "    mask = mask.where(mask.lat<-50).where(mask.lat>-65)\n",
    "    ds7 = (ds*mask).sum(dim=('lat','lon'))/mask.sum(dim=('lat','lon'))\n",
    "    ds7['region'] = '50-65S'\n",
    "    ds7 = ds7.set_coords('region')\n",
    "    \n",
    "\n",
    "    ds = xr.concat([ds1, ds2, ds3, ds4, ds5, ds6, ds7],dim='region')\n",
    "    if 'type' in ds:\n",
    "        ds = ds.drop('type')\n",
    "    if 'time_bnds' in ds:\n",
    "        ds = ds.drop('time_bnds')\n",
    "    if 'lat_bnds' in ds:\n",
    "        ds = ds.drop('lat_bnds')\n",
    "    if 'lon_bnds' in ds:\n",
    "        ds = ds.drop('lon_bnds')\n",
    "\n",
    "    ds.to_netcdf(myf.processed_dir+'/timeseries/mlotst/'+outfile+str(y1)+'-'+str(y2)+'.nc')\n",
    "    \n",
    "    return ds"
   ]
  },
  {
   "cell_type": "code",
   "execution_count": 7,
   "id": "c31004cf-7803-4007-82fa-13f3035c8816",
   "metadata": {},
   "outputs": [],
   "source": [
    "runmap = pd.read_csv('../e2.1runmap.csv',sep=',')\n",
    "myens = runmap['names'].values"
   ]
  },
  {
   "cell_type": "code",
   "execution_count": 8,
   "id": "9b67e189-c8b7-4da8-a979-719fb8353905",
   "metadata": {},
   "outputs": [],
   "source": [
    "myens = [f for f in myens if  'f6' in f or 'f5' in f]"
   ]
  },
  {
   "cell_type": "code",
   "execution_count": 9,
   "id": "e6f3370e-b29a-47ed-b47e-151ca688625c",
   "metadata": {},
   "outputs": [
    {
     "data": {
      "text/plain": [
       "['r1i1p1f5', 'r201i1p1f5', 'r202i1p1f5', 'r201i1p1f6', 'r202i1p1f6']"
      ]
     },
     "execution_count": 9,
     "metadata": {},
     "output_type": "execute_result"
    }
   ],
   "source": [
    "myens"
   ]
  },
  {
   "cell_type": "code",
   "execution_count": 10,
   "id": "e181a3b3-c9ac-43ac-b7a2-3581f898870d",
   "metadata": {},
   "outputs": [
    {
     "name": "stdout",
     "output_type": "stream",
     "text": [
      "extend with SSP245\n"
     ]
    }
   ],
   "source": [
    "for ens in myens:\n",
    "    ds, filestr = open_cmip(ens)\n",
    "    ds = get_mld_avg(ds,'mlotst_avg_Omon_GISS-E2-1-G_'+filestr+'_'+ens+'_gn_')"
   ]
  },
  {
   "cell_type": "code",
   "execution_count": 11,
   "id": "d4b27138-3a58-41f0-ae61-9538382b8102",
   "metadata": {},
   "outputs": [],
   "source": [
    "argo_ml = xr.open_dataset(myf.obs_dir+'/ARGO/RG_argo_SO_ML_properties_v7.nc')\n",
    "argo_ml = argo_ml.sel(thresh=0.03)\n",
    "argo_ml = argo_ml.where(argo_ml.latitude<-50,drop=True)\n",
    "# get area-weighted means\n",
    "lat_r = [-65, -50]\n",
    "lat_weights = np.cos(np.deg2rad(argo_ml.latitude))\n",
    "lati = np.logical_and(argo_ml['latitude']>=lat_r[0], argo_ml['latitude']<=lat_r[-1])\n",
    "argo_xymean = argo_ml.isel(latitude=lati).weighted(lat_weights).mean(dim=['latitude', 'longitude'])\n",
    "\n",
    "ds = argo_xymean[['MLD']].rename({'MLD':'mlotst'})\n",
    "ds.mlotst.attrs['units'] = 'm'\n",
    "ds['region'] = '50-65S'\n",
    "ds = ds.set_coords('region')\n",
    "ds['names'] = 'OBS-ARGO'\n",
    "ds = ds.set_coords('names')\n",
    "\n",
    "y1 = str(ds.time.values[0])[:4]\n",
    "y2 = str(ds.time.values[-1])[:4]\n",
    "ds.to_netcdf(myf.processed_dir+'/timeseries/mlotst/mlotst_avg_Omon_OBS-ARGO_'+str(y1)+'-'+str(y2)+'.nc')"
   ]
  },
  {
   "cell_type": "code",
   "execution_count": null,
   "id": "b5bfea9e-8154-41c2-a902-ab43f2cfe21b",
   "metadata": {},
   "outputs": [],
   "source": []
  }
 ],
 "metadata": {
  "kernelspec": {
   "display_name": "Python [conda env:root]",
   "language": "python",
   "name": "conda-root-py"
  },
  "language_info": {
   "codemirror_mode": {
    "name": "ipython",
    "version": 3
   },
   "file_extension": ".py",
   "mimetype": "text/x-python",
   "name": "python",
   "nbconvert_exporter": "python",
   "pygments_lexer": "ipython3",
   "version": "3.9.12"
  }
 },
 "nbformat": 4,
 "nbformat_minor": 5
}
