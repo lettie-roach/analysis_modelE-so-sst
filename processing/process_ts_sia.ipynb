{
 "cells": [
  {
   "cell_type": "code",
   "execution_count": 1,
   "id": "ea530cd7-4b65-42d9-b185-1a9f13133122",
   "metadata": {},
   "outputs": [
    {
     "data": {
      "text/plain": [
       "<module 'my_utils' from '/gpfsm/dhome/laroach1/analysis/analysis_modelE-so-sst/published/processing/../my_utils.py'>"
      ]
     },
     "execution_count": 1,
     "metadata": {},
     "output_type": "execute_result"
    }
   ],
   "source": [
    "import xarray as xr\n",
    "import matplotlib.pyplot as plt\n",
    "import numpy as np\n",
    "import os\n",
    "import pandas as pd\n",
    "import cftime\n",
    "import warnings\n",
    "xr.set_options(keep_attrs=True)\n",
    "warnings.filterwarnings('ignore')\n",
    "import sys\n",
    "sys.path.insert(1, '../')\n",
    "import my_utils as myf\n",
    "import importlib\n",
    "importlib.reload(myf)"
   ]
  },
  {
   "cell_type": "code",
   "execution_count": 2,
   "id": "8a8b6cc2-a12a-4e8f-a6f8-fdb11c7dab5f",
   "metadata": {},
   "outputs": [],
   "source": [
    "c6dir = myf.cmip_dir+'CMIP/NASA-GISS/GISS-E2-1-G/historical/'\n",
    "sspdir = myf.cmip_dir+'ScenarioMIP/NASA-GISS/GISS-E2-1-G/ssp245/'"
   ]
  },
  {
   "cell_type": "code",
   "execution_count": 3,
   "id": "b7c06c16-7a50-451c-9a6d-5c31e87ca84e",
   "metadata": {},
   "outputs": [],
   "source": [
    "griddir = myf.cmip_dir+'CMIP/NASA-GISS/GISS-E2-1-G/piControl/r1i1p1f1/fx/'\n",
    "garea = xr.open_dataset(griddir+'areacella/gn/v20180824/areacella_fx_GISS-E2-1-G_piControl_r1i1p1f1_gn.nc').areacella\n",
    "ocnfr = xr.open_dataset(griddir+'sftlf/gn/v20180824/sftlf_fx_GISS-E2-1-G_piControl_r1i1p1f1_gn.nc').sftlf\n",
    "ocnfr = ocnfr/100.\n",
    "ocnfr = 1. - ocnfr\n",
    "garea = garea*ocnfr"
   ]
  },
  {
   "cell_type": "code",
   "execution_count": 4,
   "id": "32b08075-0f7a-4f6d-9796-02f43fadc7cf",
   "metadata": {},
   "outputs": [],
   "source": [
    "def open_cmip(ens):\n",
    "    \n",
    "    ds = xr.open_mfdataset(c6dir+ens+'/SImon/siconca/gn/*/siconca_SImon_GISS-E2-1-G_historical_'+ens+'_*.nc')\n",
    "    \n",
    "    filestr = 'historical'\n",
    "    if os.path.isdir(sspdir+ens):\n",
    "        print('extend with SSP245')\n",
    "        ds2 = xr.open_mfdataset(sspdir+ens+'/SImon/siconca/gn/*/siconca_SImon_GISS-E2-1-G_ssp245_'+ens+'_*.nc')\n",
    "        ds = xr.concat([ds,ds2],dim='time').sel(time=slice('1979','2021'))\n",
    "        filestr = 'hist+ssp245'\n",
    "    ds['time'] = ds.indexes['time'].to_datetimeindex()\n",
    "    ds['names'] = ens\n",
    "    ds = ds.set_coords('names')\n",
    "    ds = ds.sel(time=slice('1979','2021'))\n",
    "\n",
    "    return ds, filestr"
   ]
  },
  {
   "cell_type": "code",
   "execution_count": 5,
   "id": "56770967-d815-4f20-8db9-38fec47bd834",
   "metadata": {},
   "outputs": [],
   "source": [
    "def get_sia(ds, outfile):\n",
    "          \n",
    "    y1 = str(ds.time.values[0])[:4]\n",
    "    y2 = str(ds.time.values[-1])[:4]\n",
    "    \n",
    "    sia_nh = (ds.siconca/100.*garea).where(ds.lat>0).sum(dim=('lat','lon')).to_dataset(name='sia_nh')/1e12\n",
    "    sia_sh = (ds.siconca/100.*garea).where(ds.lat<0).sum(dim=('lat','lon')).to_dataset(name='sia_sh')/1e12\n",
    "\n",
    "    ints = ds.siconca.where(ds.siconca>15.)\n",
    "    ints = ints/ints\n",
    "    sie_nh = (ints*garea).where(ds.lat>0).sum(dim=('lat','lon')).to_dataset(name='sie_nh')/1e12\n",
    "    sie_sh = (ints*garea).where(ds.lat<0).sum(dim=('lat','lon')).to_dataset(name='sie_sh')/1e12\n",
    "\n",
    "    ds = xr.merge([sia_nh, sia_sh, sie_nh, sie_sh])\n",
    "    \n",
    "    for var in ds:\n",
    "        ds[var].attrs['units'] = 'million km^2'\n",
    "\n",
    "    ds.sia_nh.attrs['long_name'] = 'sea_ice_area_arctic'\n",
    "    ds.sia_sh.attrs['long_name'] = 'sea_ice_area_antarctic'\n",
    "    ds.sie_nh.attrs['long_name'] = 'sea_ice_extent_arctic'\n",
    "    ds.sie_sh.attrs['long_name'] = 'sea_ice_extent_antarctic'\n",
    "    ds.to_netcdf(myf.processed_dir+'/timeseries/sia/'+outfile+str(y1)+'-'+str(y2)+'.nc')\n",
    "    \n",
    "    return ds"
   ]
  },
  {
   "cell_type": "code",
   "execution_count": 6,
   "id": "c31004cf-7803-4007-82fa-13f3035c8816",
   "metadata": {},
   "outputs": [],
   "source": [
    "runmap = pd.read_csv('../e2.1runmap.csv',sep=',')\n",
    "myens = runmap['names'].values"
   ]
  },
  {
   "cell_type": "code",
   "execution_count": 7,
   "id": "e181a3b3-c9ac-43ac-b7a2-3581f898870d",
   "metadata": {},
   "outputs": [
    {
     "name": "stdout",
     "output_type": "stream",
     "text": [
      "extend with SSP245\n",
      "extend with SSP245\n",
      "extend with SSP245\n",
      "extend with SSP245\n",
      "extend with SSP245\n",
      "extend with SSP245\n",
      "extend with SSP245\n",
      "extend with SSP245\n",
      "extend with SSP245\n",
      "extend with SSP245\n",
      "extend with SSP245\n"
     ]
    }
   ],
   "source": [
    "for ens in myens:\n",
    "    ds, filestr = open_cmip(ens)\n",
    "    ds = get_sia(ds,'siconca_avg_SImon_GISS-E2-1-G_'+filestr+'_'+ens+'_gn_')"
   ]
  },
  {
   "cell_type": "code",
   "execution_count": null,
   "id": "51eb5afd-d40a-4117-95b8-ee4a2d747e86",
   "metadata": {},
   "outputs": [],
   "source": []
  },
  {
   "cell_type": "code",
   "execution_count": null,
   "id": "a1cf3286-07bf-4a95-b40e-0c3a4df89824",
   "metadata": {},
   "outputs": [],
   "source": []
  }
 ],
 "metadata": {
  "kernelspec": {
   "display_name": "Python [conda env:root]",
   "language": "python",
   "name": "conda-root-py"
  },
  "language_info": {
   "codemirror_mode": {
    "name": "ipython",
    "version": 3
   },
   "file_extension": ".py",
   "mimetype": "text/x-python",
   "name": "python",
   "nbconvert_exporter": "python",
   "pygments_lexer": "ipython3",
   "version": "3.9.12"
  }
 },
 "nbformat": 4,
 "nbformat_minor": 5
}
