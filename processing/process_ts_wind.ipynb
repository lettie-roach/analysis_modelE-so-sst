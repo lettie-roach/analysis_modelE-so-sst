{
 "cells": [
  {
   "cell_type": "code",
   "execution_count": 13,
   "id": "ea530cd7-4b65-42d9-b185-1a9f13133122",
   "metadata": {},
   "outputs": [
    {
     "data": {
      "text/plain": [
       "<module 'my_utils' from '/gpfsm/dhome/laroach1/analysis/analysis_modelE-so-sst_pub/processing/../my_utils.py'>"
      ]
     },
     "execution_count": 13,
     "metadata": {},
     "output_type": "execute_result"
    }
   ],
   "source": [
    "import xarray as xr\n",
    "import matplotlib.pyplot as plt\n",
    "import numpy as np\n",
    "import os\n",
    "import pandas as pd\n",
    "import cftime\n",
    "import glob\n",
    "import warnings\n",
    "xr.set_options(keep_attrs=True)\n",
    "warnings.filterwarnings('ignore')\n",
    "import sys\n",
    "sys.path.insert(1, '../')\n",
    "import my_utils as myf\n",
    "import importlib\n",
    "importlib.reload(myf)"
   ]
  },
  {
   "cell_type": "code",
   "execution_count": 2,
   "id": "8a8b6cc2-a12a-4e8f-a6f8-fdb11c7dab5f",
   "metadata": {},
   "outputs": [],
   "source": [
    "c6dir = myf.cmip_dir+'CMIP/NASA-GISS/GISS-E2-1-G/historical/'\n",
    "sspdir = myf.cmip_dir+'ScenarioMIP/NASA-GISS/GISS-E2-1-G/ssp245/'"
   ]
  },
  {
   "cell_type": "code",
   "execution_count": 3,
   "id": "b7c06c16-7a50-451c-9a6d-5c31e87ca84e",
   "metadata": {},
   "outputs": [],
   "source": [
    "griddir = myf.cmip_dir+'CMIP/NASA-GISS/GISS-E2-1-G/piControl/r1i1p1f1/fx/'\n",
    "garea = xr.open_dataset(griddir+'areacella/gn/v20180824/areacella_fx_GISS-E2-1-G_piControl_r1i1p1f1_gn.nc').areacella\n",
    "ocnfr = xr.open_dataset(griddir+'sftlf/gn/v20180824/sftlf_fx_GISS-E2-1-G_piControl_r1i1p1f1_gn.nc').sftlf\n",
    "ocnfr = ocnfr/100.\n",
    "ocnfr = 1. - ocnfr\n",
    "garea = garea*ocnfr"
   ]
  },
  {
   "cell_type": "code",
   "execution_count": 4,
   "id": "32b08075-0f7a-4f6d-9796-02f43fadc7cf",
   "metadata": {},
   "outputs": [],
   "source": [
    "def open_cmip(ens,var):\n",
    "    \n",
    "    ds = xr.open_mfdataset(c6dir+ens+'/Amon/'+var+'/gn/*/'+var+'_Amon_GISS-E2-1-G_historical_'+ens+'_*.nc')\n",
    "    \n",
    "    filestr = 'historical'\n",
    "    if os.path.isdir(sspdir+ens):\n",
    "        print('extend with SSP245')\n",
    "        ds2 = xr.open_mfdataset(sspdir+ens+'/Amon/'+var+'/gn/*/'+var+'_Amon_GISS-E2-1-G_ssp245_'+ens+'_*.nc')\n",
    "        ds = xr.concat([ds,ds2],dim='time').sel(time=slice('1979','2021'))\n",
    "        filestr = 'hist+ssp245'\n",
    "    ds['time'] = ds.indexes['time'].to_datetimeindex()\n",
    "    ds['names'] = ens\n",
    "    ds = ds.set_coords('names')\n",
    "    ds = ds.sel(time=slice('1979','2021'))\n",
    "\n",
    "    return ds, filestr"
   ]
  },
  {
   "cell_type": "code",
   "execution_count": 5,
   "id": "56770967-d815-4f20-8db9-38fec47bd834",
   "metadata": {},
   "outputs": [],
   "source": [
    "def get_wind_avg(ds, outfile):\n",
    "          \n",
    "    y1 = str(ds.time.values[0])[:4]\n",
    "    y2 = str(ds.time.values[-1])[:4]\n",
    "  \n",
    "    mask = garea.copy()\n",
    "    mask = mask.where(mask.lat<-50).where(mask.lat>-65)\n",
    "    ds = (ds*mask).sum(dim=('lat','lon'))/mask.sum(dim=('lat','lon'))\n",
    "    ds['region'] = '50-65S'\n",
    "    ds = ds.set_coords('region')\n",
    "    \n",
    "\n",
    "    if 'type' in ds:\n",
    "        ds = ds.drop('type')\n",
    "    ds.to_netcdf(myf.processed_dir+'/timeseries/wind/'+outfile+str(y1)+'-'+str(y2)+'.nc')\n",
    "    \n",
    "    return ds"
   ]
  },
  {
   "cell_type": "code",
   "execution_count": 6,
   "id": "c31004cf-7803-4007-82fa-13f3035c8816",
   "metadata": {},
   "outputs": [],
   "source": [
    "runmap = pd.read_csv('../e2.1runmap.csv',sep=',')\n",
    "myens = runmap['names'].values"
   ]
  },
  {
   "cell_type": "code",
   "execution_count": 7,
   "id": "e181a3b3-c9ac-43ac-b7a2-3581f898870d",
   "metadata": {},
   "outputs": [
    {
     "name": "stdout",
     "output_type": "stream",
     "text": [
      "extend with SSP245\n",
      "extend with SSP245\n",
      "extend with SSP245\n",
      "extend with SSP245\n",
      "extend with SSP245\n",
      "extend with SSP245\n",
      "extend with SSP245\n",
      "extend with SSP245\n",
      "extend with SSP245\n",
      "extend with SSP245\n",
      "extend with SSP245\n",
      "extend with SSP245\n",
      "extend with SSP245\n",
      "extend with SSP245\n",
      "extend with SSP245\n",
      "extend with SSP245\n",
      "extend with SSP245\n",
      "extend with SSP245\n",
      "extend with SSP245\n",
      "extend with SSP245\n",
      "extend with SSP245\n",
      "extend with SSP245\n"
     ]
    }
   ],
   "source": [
    "for ens in myens:\n",
    "    ds1, filestr = open_cmip(ens, 'uas')\n",
    "    ds2, filestr = open_cmip(ens, 'vas')\n",
    "    ds = xr.merge([ds1,ds2])\n",
    "    ds['ws'] = np.sqrt(ds['uas']**2+ds['vas']**2)\n",
    "    ds = get_wind_avg(ds,'wind_avg_Amon_GISS-E2-1-G_'+filestr+'_'+ens+'_gn_')"
   ]
  },
  {
   "cell_type": "code",
   "execution_count": 14,
   "id": "d4b27138-3a58-41f0-ae61-9538382b8102",
   "metadata": {},
   "outputs": [],
   "source": [
    "merradir = '/discover/nobackup/projects/gmao/merra2/data/products/'\n",
    "myfiles = sorted(glob.glob(merradir+'MERRA2_all/*/*/*tavgM_2d_slv_*.nc4'))\n",
    "ds = xr.open_dataset(myfiles[0])\n",
    "garea, _, _ = myf.grid_area_regll(ds.lat,ds.lon)\n",
    "garea = xr.DataArray(garea,dims=('lat','lon'),coords = ds.isel(time=0).coords)\n",
    "mask = garea.copy()\n",
    "mask = mask.where(mask.lat<-50).where(mask.lat>-65)\n",
    "\n",
    "y1, y2 = 1980, 2021\n",
    "listds = []\n",
    "for f in myfiles:\n",
    "    ds = xr.open_dataset(f)[['U10M','V10M']]\n",
    "    ds = ds.rename({'U10M':'uas','V10M':'vas'})\n",
    "    ds['ws'] = np.sqrt(ds['uas']**2+ds['vas']**2)\n",
    "    ds = (ds*mask).sum(dim=('lat','lon'))/mask.sum(dim=('lat','lon'))\n",
    "    listds.append(ds)\n",
    "ds = xr.concat(listds,dim='time').sel(time=slice(str(y1),str(y2)))\n",
    "ds['region'] = '50-65S'\n",
    "ds = ds.set_coords('region')\n",
    "ds['names'] = 'OBS-MERRA2'\n",
    "ds = ds.set_coords('names')\n",
    "\n",
    "ds.to_netcdf(myf.processed_dir+'/timeseries/wind/wind_avg_Amon_MERRA2_'+str(y1)+'-'+str(y2)+'.nc')"
   ]
  },
  {
   "cell_type": "code",
   "execution_count": 11,
   "id": "d62da75d-805d-4983-a676-873690a16e10",
   "metadata": {},
   "outputs": [],
   "source": [
    "ds = xr.open_dataset(myf.obs_dir+'/ERA-Interim/ei.moda.an.sfc.regn128sc.1979-2018_ptuv.nc')\n",
    "ds = ds.rename({'latitude':'lat','longitude':'lon'})\n",
    "garea, _, _ = myf.grid_area_regll(ds.lat,ds.lon)\n",
    "garea = -xr.DataArray(garea,dims=('lat','lon'),coords = ds.isel(time=0).coords)\n",
    "mask = garea.copy()\n",
    "mask = mask.where(mask.lat<-50).where(mask.lat>-65)\n",
    "ds = ds.rename({'u10':'uas','v10':'vas'})\n",
    "ds['ws'] = np.sqrt(ds['uas']**2+ds['vas']**2)\n",
    "ds = (ds*mask).sum(dim=('lat','lon'))/mask.sum(dim=('lat','lon'))\n",
    "ds['region'] = '50-65S'\n",
    "ds = ds.set_coords('region')\n",
    "ds['names'] = 'OBS-ERA-Interim'\n",
    "ds = ds.set_coords('names')\n",
    "ds.to_netcdf(myf.processed_dir+'/timeseries/wind/wind_avg_Amon_ERA-Interim_1979-2018.nc')"
   ]
  },
  {
   "cell_type": "code",
   "execution_count": 47,
   "id": "5f0f12a1-4249-4c89-bac4-77638729c0a6",
   "metadata": {},
   "outputs": [],
   "source": []
  },
  {
   "cell_type": "code",
   "execution_count": 49,
   "id": "0331eb9e-c548-4277-ac70-396d4742df0e",
   "metadata": {},
   "outputs": [],
   "source": []
  }
 ],
 "metadata": {
  "kernelspec": {
   "display_name": "Python [conda env:root]",
   "language": "python",
   "name": "conda-root-py"
  },
  "language_info": {
   "codemirror_mode": {
    "name": "ipython",
    "version": 3
   },
   "file_extension": ".py",
   "mimetype": "text/x-python",
   "name": "python",
   "nbconvert_exporter": "python",
   "pygments_lexer": "ipython3",
   "version": "3.9.12"
  }
 },
 "nbformat": 4,
 "nbformat_minor": 5
}
