{
 "cells": [
  {
   "cell_type": "code",
   "execution_count": 1,
   "id": "ea530cd7-4b65-42d9-b185-1a9f13133122",
   "metadata": {},
   "outputs": [
    {
     "data": {
      "text/plain": [
       "<module 'my_utils' from '/gpfsm/dhome/laroach1/analysis/analysis_modelE-so-sst_pub/processing/../my_utils.py'>"
      ]
     },
     "execution_count": 1,
     "metadata": {},
     "output_type": "execute_result"
    }
   ],
   "source": [
    "import xarray as xr\n",
    "import matplotlib.pyplot as plt\n",
    "import numpy as np\n",
    "import os\n",
    "import pandas as pd\n",
    "import cftime\n",
    "import warnings\n",
    "xr.set_options(keep_attrs=True)\n",
    "warnings.filterwarnings('ignore')\n",
    "import sys\n",
    "sys.path.insert(1, '../')\n",
    "import my_utils as myf\n",
    "import importlib\n",
    "importlib.reload(myf)"
   ]
  },
  {
   "cell_type": "code",
   "execution_count": 2,
   "id": "8a8b6cc2-a12a-4e8f-a6f8-fdb11c7dab5f",
   "metadata": {},
   "outputs": [],
   "source": [
    "c6dir = myf.cmip_dir+'CMIP/NASA-GISS/GISS-E2-1-G/historical/'\n",
    "sspdir = myf.cmip_dir+'ScenarioMIP/NASA-GISS/GISS-E2-1-G/ssp245/'"
   ]
  },
  {
   "cell_type": "code",
   "execution_count": 3,
   "id": "7d962c55-a08a-4b68-a301-5aebefe59d14",
   "metadata": {},
   "outputs": [],
   "source": [
    "y1, y2 = 1979, 2021"
   ]
  },
  {
   "cell_type": "code",
   "execution_count": 4,
   "id": "32b08075-0f7a-4f6d-9796-02f43fadc7cf",
   "metadata": {},
   "outputs": [],
   "source": [
    "def open_cmip(ens):\n",
    "    \n",
    "    ds = xr.open_mfdataset(c6dir+ens+'/Omon/tos/gn/*/tos_Omon_GISS-E2-1-G_historical_'+ens+'_*.nc')\n",
    "    \n",
    "    filestr = 'historical'\n",
    "    if os.path.isdir(sspdir+ens):\n",
    "        ds2 = xr.open_mfdataset(sspdir+ens+'/Omon/tos/gn/*/tos_Omon_GISS-E2-1-G_ssp245_'+ens+'_*.nc')\n",
    "        ds = xr.concat([ds,ds2],dim='time')\n",
    "        filestr = 'hist+ssp245'\n",
    "    ds = ds.sel(time=slice(str(y1),str(y2)))\n",
    "    ds['time'] = ds.indexes['time'].to_datetimeindex()\n",
    "    ds['names'] = ens\n",
    "    ds = ds.set_coords('names')\n",
    "    ds = ds.groupby('time.year').mean(dim='time')\n",
    "\n",
    "    return ds, filestr"
   ]
  },
  {
   "cell_type": "code",
   "execution_count": 5,
   "id": "56770967-d815-4f20-8db9-38fec47bd834",
   "metadata": {},
   "outputs": [],
   "source": [
    "def get_tos_avg(ds, outfile):\n",
    "    ds = ds[['tos']]\n",
    "\n",
    "    slope, intercept, r_value, p_value, std_err = myf.linregress(ds.year,ds.load(),dim='year')\n",
    "    slope = slope.tos.to_dataset(name='tos_trend')\n",
    "    slope.tos_trend.attrs['units'] = 'degC/year'\n",
    "    p_value = p_value.tos.to_dataset(name='tos_trend_pval')\n",
    "    p_value.tos_trend_pval.attrs['units'] = '1'\n",
    "\n",
    "    clim = ds.tos.mean(dim='year').to_dataset(name='tos_climatology')\n",
    "    clim.tos_climatology.attrs['units'] = 'degC'\n",
    "    ds = xr.merge([slope,p_value, clim])\n",
    "    ds.to_netcdf(myf.processed_dir+'/spatial_trend/tos/'+str(y1)+'-'+str(y2)+'/'+outfile+str(y1)+'-'+str(y2)+'.nc')\n",
    "    \n",
    "    return ds"
   ]
  },
  {
   "cell_type": "code",
   "execution_count": 6,
   "id": "59d5e6cb-6ca4-482b-90e0-7026ee3ec4dc",
   "metadata": {},
   "outputs": [],
   "source": [
    "runmap = pd.read_csv('../e2.1runmap.csv',sep=',')\n",
    "allens = runmap['names'].values"
   ]
  },
  {
   "cell_type": "code",
   "execution_count": 7,
   "id": "5375a4a5-14cb-4355-bd95-7e209af78343",
   "metadata": {},
   "outputs": [],
   "source": [
    "ens_ctrl = [f for f in allens if 'f2' in f or 'f1' in f]\n",
    "ens_mw = [f for f in allens if 'f4' in f]\n",
    "ens_wind = [f for f in allens if 'f5' in f]\n",
    "ens_windmw = [f for f in allens if 'f6' in f]"
   ]
  },
  {
   "cell_type": "code",
   "execution_count": 8,
   "id": "539d3099-dc86-4d98-ae66-b8003cd57cce",
   "metadata": {},
   "outputs": [
    {
     "name": "stdout",
     "output_type": "stream",
     "text": [
      "['r1i1p1f2', 'r2i1p1f2', 'r3i1p1f2', 'r4i1p1f2', 'r5i1p1f2', 'r6i1p1f2', 'r7i1p1f2', 'r8i1p1f2', 'r9i1p1f2', 'r10i1p1f2', 'r201i1p1f1', 'r202i1p1f1', 'r203i1p1f1', 'r204i1p1f1', 'r205i1p1f1', 'r206i1p1f1', 'r207i1p1f1', 'r208i1p1f1', 'r209i1p1f1', 'r210i1p1f1'] 20\n",
      "['r201i1p1f4', 'r202i1p1f4', 'r203i1p1f4', 'r204i1p1f4', 'r205i1p1f4', 'r206i1p1f4', 'r207i1p1f4', 'r208i1p1f4', 'r209i1p1f4', 'r210i1p1f4'] 10\n",
      "['r1i1p1f5', 'r201i1p1f5', 'r202i1p1f5'] 3\n",
      "['r201i1p1f6', 'r202i1p1f6'] 2\n"
     ]
    }
   ],
   "source": [
    "for n, myens in enumerate([ens_ctrl,ens_mw, ens_wind, ens_windmw]):\n",
    "    listds = []\n",
    "    print(myens,len(myens))\n",
    "    for ens in myens:\n",
    "        ds, filestr = open_cmip(ens)\n",
    "        listds.append(ds)\n",
    "    ds = xr.concat(listds,dim='names').mean(dim='names')\n",
    "    ds['names'] = ['CTRLmean','MWmean','WINDmean','WIND&MWmean'][n]\n",
    "    ds.attrs['num_ensemble'] = [20,10,3,2][n]\n",
    "    ds = ds.set_coords('names')\n",
    "    ds = get_tos_avg(ds,'ensemble_means/tos_Omon_GISS-E2-1-G_'+filestr+'_'+str(ds.names.values)+'_gn_')"
   ]
  },
  {
   "cell_type": "code",
   "execution_count": 9,
   "id": "e181a3b3-c9ac-43ac-b7a2-3581f898870d",
   "metadata": {},
   "outputs": [],
   "source": [
    "for ens in allens[:]:\n",
    "    ds, filestr = open_cmip(ens)\n",
    "    ds = get_tos_avg(ds,'tos_Omon_GISS-E2-1-G_'+filestr+'_'+ens+'_gn_')"
   ]
  },
  {
   "cell_type": "code",
   "execution_count": 10,
   "id": "b7e323a5-a59f-4fff-bbf2-0e652275d80a",
   "metadata": {},
   "outputs": [],
   "source": [
    "ds = xr.open_dataset(myf.obs_dir+'NOAA-ERSSTv5/sst.mnmean.nc').rename({'sst':'tos'})\n",
    "ds['names'] = 'OBS-ERSSTv5'\n",
    "ds = ds.set_coords('names')\n",
    "name = str(ds.names.values)\n",
    "ds = ds.sel(time=slice(str(y1),str(y2)))\n",
    "ds = ds.groupby('time.year').mean(dim='time')\n",
    "ds = get_tos_avg(ds,'tos_avg_Omon_OBS-NOAA-ERSSTv5_')"
   ]
  },
  {
   "cell_type": "code",
   "execution_count": null,
   "id": "d4b27138-3a58-41f0-ae61-9538382b8102",
   "metadata": {},
   "outputs": [],
   "source": []
  }
 ],
 "metadata": {
  "kernelspec": {
   "display_name": "Python [conda env:root]",
   "language": "python",
   "name": "conda-root-py"
  },
  "language_info": {
   "codemirror_mode": {
    "name": "ipython",
    "version": 3
   },
   "file_extension": ".py",
   "mimetype": "text/x-python",
   "name": "python",
   "nbconvert_exporter": "python",
   "pygments_lexer": "ipython3",
   "version": "3.9.12"
  }
 },
 "nbformat": 4,
 "nbformat_minor": 5
}
